{
  "nbformat": 4,
  "nbformat_minor": 0,
  "metadata": {
    "colab": {
      "provenance": []
    },
    "kernelspec": {
      "name": "python3",
      "display_name": "Python 3"
    },
    "language_info": {
      "name": "python"
    }
  },
  "cells": [
    {
      "cell_type": "code",
      "source": [
        "from google.colab.patches import cv2_imshow\n",
        "import cv2\n",
        "import numpy as np\n",
        "from PIL import Image\n",
        "\n",
        "def non_max_suppression(boxes, overlap_threshold=0.3):\n",
        "    if len(boxes) == 0:\n",
        "        return []\n",
        "\n",
        "    boxes = np.array(boxes)\n",
        "    pick = []\n",
        "\n",
        "    x1 = boxes[:, 0]\n",
        "    y1 = boxes[:, 1]\n",
        "    x2 = boxes[:, 2]\n",
        "    y2 = boxes[:, 3]\n",
        "\n",
        "    area = (x2 - x1 + 1) * (y2 - y1 + 1)\n",
        "    idxs = np.argsort(y2)\n",
        "\n",
        "    while len(idxs) > 0:\n",
        "        last = len(idxs) - 1\n",
        "        i = idxs[last]\n",
        "        pick.append(i)\n",
        "\n",
        "        xx1 = np.maximum(x1[i], x1[idxs[:last]])\n",
        "        yy1 = np.maximum(y1[i], y1[idxs[:last]])\n",
        "        xx2 = np.minimum(x2[i], x2[idxs[:last]])\n",
        "        yy2 = np.minimum(y2[i], y2[idxs[:last]])\n",
        "\n",
        "        w = np.maximum(0, xx2 - xx1 + 1)\n",
        "        h = np.maximum(0, yy2 - yy1 + 1)\n",
        "\n",
        "        overlap = (w * h) / area[idxs[:last]]\n",
        "\n",
        "        idxs = np.delete(idxs, np.concatenate(([last], np.where(overlap > overlap_threshold)[0])))\n",
        "\n",
        "    return boxes[pick].astype(\"int\")\n",
        "\n",
        "def skew_transform(image, skew_factor):\n",
        "    \"\"\"\n",
        "    Apply skew transformation to the given image.\n",
        "    \"\"\"\n",
        "    rows, cols = image.shape[:2]\n",
        "    skew_matrix = np.float32([[1, skew_factor, 0], [0, 1, 0]])\n",
        "    skewed_image = cv2.warpAffine(image, skew_matrix, (cols, rows))\n",
        "    return skewed_image\n",
        "\n",
        "# Read the main image\n",
        "img_rgb = cv2.imread('/content/gdrive/MyDrive/mario.png')\n",
        "\n",
        "# Convert it to RGB (PIL uses RGB)\n",
        "img_rgb = cv2.cvtColor(img_rgb, cv2.COLOR_BGR2RGB)\n",
        "\n",
        "# Convert it to grayscale\n",
        "img_gray = cv2.cvtColor(img_rgb, cv2.COLOR_RGB2GRAY)\n",
        "\n",
        "# Read the template\n",
        "template = cv2.imread('/content/gdrive/MyDrive/mario_coin3.png', 0)\n",
        "\n",
        "# Define a range of scales to apply\n",
        "scales = np.linspace(0.2, 2.0, 10)  # Adjust the range and number of scales as needed\n",
        "\n",
        "# Perform multi-scale template matching with skew transformation\n",
        "all_boxes = []\n",
        "for scale in scales:\n",
        "    resized_template = cv2.resize(template, (int(template.shape[1] * scale), int(template.shape[0] * scale)))\n",
        "\n",
        "    # Apply skew transformation to the resized template\n",
        "    skew_factor = 0.1 # Adjust the skew factor as needed\n",
        "    skewed_template = skew_transform(resized_template, skew_factor)\n",
        "\n",
        "    result = cv2.matchTemplate(img_gray, skewed_template, cv2.TM_CCOEFF_NORMED)\n",
        "\n",
        "    # Set a threshold for matches\n",
        "    threshold = 0.8\n",
        "    # Get the locations where the correlation is above the threshold\n",
        "    loc = np.where(result >= threshold)\n",
        "\n",
        "    # Add bounding boxes to the list\n",
        "    for pt in zip(*loc[::-1]):\n",
        "        all_boxes.append((pt[0], pt[1], pt[0] + skewed_template.shape[1], pt[1] + skewed_template.shape[0]))\n",
        "\n",
        "# Apply Non-Maximum Suppression\n",
        "filtered_boxes = non_max_suppression(all_boxes)\n",
        "\n",
        "# Draw rectangles around the matched regions\n",
        "for box in filtered_boxes:\n",
        "    cv2.rectangle(img_rgb, (box[0], box[1]), (box[2], box[3]), (0, 255, 0), 2)\n",
        "\n",
        "# Convert back to BGR for displaying with cv2_imshow\n",
        "img_rgb_bgr = cv2.cvtColor(img_rgb, cv2.COLOR_RGB2BGR)\n",
        "\n",
        "# Show the final image\n",
        "cv2_imshow(img_rgb_bgr)"
      ],
      "metadata": {
        "colab": {
          "base_uri": "https://localhost:8080/",
          "height": 257
        },
        "id": "_PsfP2UUM__r",
        "outputId": "ba1fdb81-d05c-4866-b81a-10706bbce381"
      },
      "execution_count": 54,
      "outputs": [
        {
          "output_type": "display_data",
          "data": {
            "text/plain": [
              "<PIL.Image.Image image mode=RGB size=256x240>"
            ],
            "image/png": "[encoded data removed]"
          },
          "metadata": {}
        }
      ]
    },
    {
      "cell_type": "code",
      "source": [
        "from google.colab import drive\n",
        "drive.mount('/content/drive')"
      ],
      "metadata": {
        "id": "Bv4SnFiBlB9S"
      },
      "execution_count": null,
      "outputs": []
    }
  ]
}