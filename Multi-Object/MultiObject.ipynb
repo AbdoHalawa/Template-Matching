{
  "nbformat": 4,
  "nbformat_minor": 0,
  "metadata": {
    "colab": {
      "provenance": []
    },
    "kernelspec": {
      "name": "python3",
      "display_name": "Python 3"
    },
    "language_info": {
      "name": "python"
    }
  },
  "cells": [
    {
      "cell_type": "code",
      "source": [
        "from google.colab.patches import cv2_imshow\n",
        "import cv2\n",
        "import numpy as np\n",
        "from PIL import Image\n",
        "\n",
        "def non_max_suppression(boxes, overlap_threshold=0.3):\n",
        "    if len(boxes) == 0:\n",
        "        return []\n",
        "\n",
        "    boxes = np.array(boxes)\n",
        "    pick = []\n",
        "\n",
        "    x1 = boxes[:, 0]\n",
        "    y1 = boxes[:, 1]\n",
        "    x2 = boxes[:, 2]\n",
        "    y2 = boxes[:, 3]\n",
        "\n",
        "    area = (x2 - x1 + 1) * (y2 - y1 + 1)\n",
        "    idxs = np.argsort(y2)\n",
        "\n",
        "    while len(idxs) > 0:\n",
        "        last = len(idxs) - 1\n",
        "        i = idxs[last]\n",
        "        pick.append(i)\n",
        "\n",
        "        xx1 = np.maximum(x1[i], x1[idxs[:last]])\n",
        "        yy1 = np.maximum(y1[i], y1[idxs[:last]])\n",
        "        xx2 = np.minimum(x2[i], x2[idxs[:last]])\n",
        "        yy2 = np.minimum(y2[i], y2[idxs[:last]])\n",
        "\n",
        "        w = np.maximum(0, xx2 - xx1 + 1)\n",
        "        h = np.maximum(0, yy2 - yy1 + 1)\n",
        "\n",
        "        overlap = (w * h) / area[idxs[:last]]\n",
        "\n",
        "        idxs = np.delete(idxs, np.concatenate(([last], np.where(overlap > overlap_threshold)[0])))\n",
        "\n",
        "    return boxes[pick].astype(\"int\")\n",
        "\n",
        "# Read the main image\n",
        "img_rgb = cv2.imread('/content/gdrive/MyDrive/mario.png')\n",
        "\n",
        "# Convert it to RGB (PIL uses RGB)\n",
        "img_rgb = cv2.cvtColor(img_rgb, cv2.COLOR_BGR2RGB)\n",
        "\n",
        "# Convert it to grayscale\n",
        "img_gray = cv2.cvtColor(img_rgb, cv2.COLOR_RGB2GRAY)\n",
        "\n",
        "# Read the template\n",
        "template = cv2.imread('/content/gdrive/MyDrive/mario_coin3.png', 0)\n",
        "\n",
        "# Perform template matching\n",
        "result = cv2.matchTemplate(img_gray, template, cv2.TM_CCOEFF_NORMED)\n",
        "\n",
        "# Set a threshold for matches\n",
        "threshold = 0.8\n",
        "\n",
        "# Get the locations where the correlation is above the threshold\n",
        "loc = np.where(result >= threshold)\n",
        "\n",
        "# Check if any matches were found\n",
        "if len(loc[0]) > 0:\n",
        "    # Get the bounding boxes for all matches\n",
        "    boxes = []\n",
        "    for pt in zip(*loc[::-1]):\n",
        "        boxes.append((pt[0], pt[1], pt[0] + template.shape[1], pt[1] + template.shape[0]))\n",
        "\n",
        "    # Apply non-maximum suppression\n",
        "    filtered_boxes = non_max_suppression(boxes)\n",
        "\n",
        "    # Draw rectangles around all unique matched objects\n",
        "    for box in filtered_boxes:\n",
        "        cv2.rectangle(img_rgb, (box[0], box[1]), (box[2], box[3]), (0, 255, 0), 2)\n",
        "\n",
        "    # Convert back to BGR for displaying with cv2_imshow\n",
        "    img_rgb_bgr = cv2.cvtColor(img_rgb, cv2.COLOR_RGB2BGR)\n",
        "\n",
        "    # Display the number of matches\n",
        "    num_objects = len(filtered_boxes)\n",
        "    print(f\"Number of detected objects: {num_objects}\")\n",
        "\n",
        "    # Show the final image\n",
        "    cv2_imshow(img_rgb_bgr)\n",
        "else:\n",
        "    print(\"No matches found.\")"
      ],
      "metadata": {
        "colab": {
          "base_uri": "https://localhost:8080/",
          "height": 274
        },
        "id": "_PsfP2UUM__r",
        "outputId": "c1567c04-ce4c-44f2-a2b7-7e58f96a3c66"
      },
      "execution_count": 55,
      "outputs": [
        {
          "output_type": "stream",
          "name": "stdout",
          "text": [
            "Number of detected objects: 19\n"
          ]
        },
        {
          "output_type": "display_data",
          "data": {
            "text/plain": [
              "<PIL.Image.Image image mode=RGB size=256x240>"
            ],
            "image/png": "[encoded data removed]"
          },
          "metadata": {}
        }
      ]
    },
    {
      "cell_type": "code",
      "source": [
        "from google.colab import drive\n",
        "drive.mount('/content/drive')"
      ],
      "metadata": {
        "id": "Bv4SnFiBlB9S"
      },
      "execution_count": null,
      "outputs": []
    }
  ]
}